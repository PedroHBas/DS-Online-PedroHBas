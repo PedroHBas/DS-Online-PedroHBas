{
  "cells": [
    {
      "cell_type": "markdown",
      "metadata": {},
      "source": [
        "![TheBridge_logo_RGB_color.jpg](attachment:TheBridge_logo_RGB_color.jpg)"
      ]
    },
    {
      "cell_type": "markdown",
      "metadata": {},
      "source": [
        "![ejercicios.png](attachment:ejercicios.png)"
      ]
    },
    {
      "cell_type": "markdown",
      "metadata": {},
      "source": [
        "## EJERCICIOS PYTHON EXTRA:"
      ]
    },
    {
      "cell_type": "markdown",
      "metadata": {},
      "source": [
        "Los siguientes ejercicios son para que practiques por tu cuenta si te apetece. No es obligatorio hacerlo, pero seguramente te divertirás practicando con ellos. Si quieres la solución, no te cortes, y pídela :-)"
      ]
    },
    {
      "cell_type": "markdown",
      "metadata": {},
      "source": [
        "## Ejercicio 1\n",
        "Crea un programa que recoja dos inputs. Tiene que comprobar si su suma es igual, superior o inferior a 10"
      ]
    },
    {
      "cell_type": "code",
      "execution_count": null,
      "metadata": {},
      "outputs": [
        {
          "name": "stdout",
          "output_type": "stream",
          "text": [
            "Escríbeme 2 números:2y8\n",
            "Ambos números suman 10.\n"
          ]
        }
      ],
      "source": [
        "import re\n",
        "\n",
        "numeros = []\n",
        "\n",
        "while len(numeros) < 2 :\n",
        "  numeros.extend (map (int, (re.findall (r'\\d+', input('Escríbeme 2 números:'))))) # Con esta expresión me quedo solo con los digitos agrupados por aquellos que estén escritos de forma consecutiva y los convierto a enteros añadiendolos a la lista de números.\n",
        "\n",
        "numeros = numeros [0:2]\n",
        "suma = sum (numeros)\n",
        "\n",
        "if suma == 10:\n",
        "  print ('Ambos números suman 10.')\n",
        "elif suma < 10:\n",
        "  print ('Ambos números suman menos que 10.')\n",
        "else:\n",
        "  print ('Ambos números suman más que 10.')"
      ]
    },
    {
      "cell_type": "markdown",
      "metadata": {},
      "source": [
        "## Ejercicio 2\n",
        "Solicite al usuario dos números enteros usando la función input. Calcule la suma de estos dos números y muestre el resultado. Recuerde convertir adecuadamente los tipos de datos."
      ]
    },
    {
      "cell_type": "code",
      "execution_count": null,
      "metadata": {},
      "outputs": [
        {
          "name": "stdout",
          "output_type": "stream",
          "text": [
            "Escríbeme 2 números:123\n",
            "Escríbeme 2 números:54\n",
            "La suma de estos dos números es igual a 177\n"
          ]
        }
      ],
      "source": [
        "import re\n",
        "\n",
        "numeros = []\n",
        "\n",
        "while len(numeros) < 2 :\n",
        "  numeros.extend (map (int, (re.findall (r'\\d+', input('Escríbeme 2 números:'))))) # Con esta expresión me quedo solo con los digitos agrupados por aquellos que estén escritos de forma consecutiva y los convierto a enteros añadiendolos a la lista de números.\n",
        "\n",
        "numeros = numeros [0:2]\n",
        "suma = sum (numeros)\n",
        "\n",
        "print ('La suma de estos dos números es igual a', suma)"
      ]
    },
    {
      "cell_type": "markdown",
      "metadata": {},
      "source": [
        "## Ejercicio 3\n",
        "Sobre el programa del ejercicio anterior, y recordando el que se hizo en el workout para saber si un número es par, comprueba si alguno de los números introducidos por el usuario es multiplo del otro\n"
      ]
    },
    {
      "cell_type": "markdown",
      "metadata": {},
      "source": [
        "Recuerda el código que vimos en la sesión online del workout:\n",
        "```Python\n",
        "n = 23\n",
        "print(\"¿Es\",n,\"par?\")\n",
        "resto = n%2\n",
        "print(\"El resto es\", resto)\n",
        "# Si queremos que nos haga el las comparaciones usaremos el comando if, adelantándonos un poco\n",
        "if resto == 0:\n",
        "    print(\"Es par\")\n",
        "else:\n",
        "    print(\"Es impar\")\n",
        "```"
      ]
    },
    {
      "cell_type": "code",
      "execution_count": null,
      "metadata": {},
      "outputs": [
        {
          "name": "stdout",
          "output_type": "stream",
          "text": [
            "Escríbeme 2 números:1 2\n",
            "El segundo número es multiplo del primero.\n"
          ]
        }
      ],
      "source": [
        "import re\n",
        "\n",
        "numeros = []\n",
        "\n",
        "while len(numeros) < 2 :\n",
        "  numeros.extend (map (int, (re.findall (r'\\d+', input('Escríbeme 2 números:'))))) # Con esta expresión me quedo solo con los digitos agrupados por aquellos que estén escritos de forma consecutiva y los convierto a enteros añadiendolos a la lista de números.\n",
        "\n",
        "numeros = numeros [0:2]\n",
        "\n",
        "if numeros [1] % numeros [0] == 0 :\n",
        "  print ('El segundo número es multiplo del primero.')\n",
        "elif numeros [0] % numeros [1] == 0 :\n",
        "  print ('El primer número es multiplo del segundo.')\n",
        "else :\n",
        "  print ('Ninguno de los dos números es múltiplo del otro.')\n"
      ]
    },
    {
      "cell_type": "markdown",
      "metadata": {},
      "source": [
        "## Ejercicio 4\n",
        "\n",
        "Introduce el 0 como valor en uno de los inputs en el programa anterior y comprueba que sucede. Explica el resultado"
      ]
    },
    {
      "cell_type": "markdown",
      "metadata": {},
      "source": [
        "###### **Error División entre 0**\n",
        "\n",
        "El resultado del programa es un error ya que se le pide que divida un número entre 0, cosa que es una **indeterminación** y que no se puede resolver por este método. Para corregirlo habría que añadir excepciones al programa que evita que ocurran estas situaciones."
      ]
    },
    {
      "cell_type": "markdown",
      "metadata": {},
      "source": [
        "## Ejercicio 5\n",
        "\n",
        "1. Convierte la frase \"La primera vez que conocí a Terry Lenox\" en una lista de palabras.\n",
        "2. Cambia de dos formas diferentes \"Terry\" por \"John\".\n",
        "3. Ordena alfabéticamente la lista resultante.\n",
        "4. Investiga sobre el método join de los strings, y convierte la lista de nuevo en un string con las palabras separadas por espacios. Para ello empieza practicando (en otra celda):  \n",
        "    ```Python\n",
        "    \"\\n\".join([\"Primera linea\",\"segunda linea\",\"tercera linea])\n",
        "    ```  \n",
        "    \n",
        "5. Pasa el string resultante a mayúsculas e imprímelo."
      ]
    },
    {
      "cell_type": "code",
      "execution_count": null,
      "metadata": {},
      "outputs": [
        {
          "name": "stdout",
          "output_type": "stream",
          "text": [
            "La primera vez que conocí a John Lenox\n",
            "['La', 'primera', 'vez', 'que', 'conocí', 'a', 'John', 'Lenox']\n",
            "JOHN LA LENOX A CONOCÍ PRIMERA QUE VEZ\n"
          ]
        }
      ],
      "source": [
        "frase = 'La primera vez que conocí a Terry Lenox'\n",
        "lista = frase.split (' ')\n",
        "\n",
        "frase = frase.replace ('Terry', 'John')\n",
        "lista [6] = 'John'\n",
        "\n",
        "print (frase)\n",
        "print (lista)\n",
        "\n",
        "lista.sort ()\n",
        "\n",
        "frase_mod = ' '.join (lista).upper ()\n",
        "\n",
        "print (frase_mod)\n"
      ]
    }
  ],
  "metadata": {
    "colab": {
      "provenance": []
    },
    "kernelspec": {
      "display_name": "venv",
      "language": "python",
      "name": "python3"
    },
    "language_info": {
      "codemirror_mode": {
        "name": "ipython",
        "version": 3
      },
      "file_extension": ".py",
      "mimetype": "text/x-python",
      "name": "python",
      "nbconvert_exporter": "python",
      "pygments_lexer": "ipython3",
      "version": "3.12.10"
    },
    "orig_nbformat": 4
  },
  "nbformat": 4,
  "nbformat_minor": 0
}
