{
 "cells": [
  {
   "cell_type": "markdown",
   "metadata": {
    "id": "KmzJhbbJxtBM"
   },
   "source": [
    "## **NOTA IMPORTANTE**:\n",
    "\n",
    "El siguiente ejercicio corresponde a la parte práctica del Ramp-Up de la versión presencial del bootcamp de septiembre de 2023 impartido en Sevilla. Hay algunos ejercicios que no aplican al bootcamp online y otros que no podrás hacerlos hasta que termines la segunda unidad de este sprint, pero PUEDES EMPEZAR E IR HACIENDOLOS A MEDIDAS QUE TENGAS LOS CONOCIMIENTOS ADECUADOS!!!"
   ]
  },
  {
   "cell_type": "markdown",
   "metadata": {
    "id": "-DdLFoixxtBM"
   },
   "source": [
    "# Examen Ejemplo: Ramp-Up Sevilla Septiembre 2022"
   ]
  },
  {
   "cell_type": "markdown",
   "metadata": {
    "id": "R0FXOgGKxtBN"
   },
   "source": [
    "**Aviso**: En todos los ejercicios se valorarán las buenas prácticas de programación como una parte importante de la calificación (comentarios, nombres de variables autoexplicativas)."
   ]
  },
  {
   "cell_type": "markdown",
   "metadata": {
    "id": "7NTvbypfxtBN"
   },
   "source": [
    "## Ejercicio 1: Tipos de Datos (4 puntos)"
   ]
  },
  {
   "cell_type": "markdown",
   "metadata": {
    "id": "cRnekD4-xtBN"
   },
   "source": [
    "En este ejercicio se va a crear una lista con los siguientes elementos.\n",
    "\n",
    "**IMPORTANTE**: En todos los casos, hacer print del resultado y del tipo.\n",
    "\n",
    "Primero, crearemos las variables que luego añadiremos a la lista. Las variables son las siguientes:\n",
    "\n",
    "1. Crea una variable llamada `edad` de tipo Integer que represente tu edad en años.\n",
    "2. Crea una variable llamada `nombre` de tipo String con tu nombre y otra `apellidos` con tus apellidos\n",
    "3. Concatena tu nombre seguido de un espacio en blanco y la inicial de tu primer apellido a partir de `nombre` y `apellidos`. Guárdala en `nombre_y_apellidos`.\n",
    "4. Crea una variable llamada `altura` con el valor de tu altura en metros de tipo float.\n",
    "5. Crea una variable llamada `tipo_ord` de tipo Boolean True si usas Windows y False si usas Mac.\n",
    "6. Crea una variable llamada `nada` de tipo None cuyo valor sea None.\n",
    "\n",
    "#### Listas\n",
    "8. Crea una variable llamada `lista_series` de tipo List que contenga las 5 series de TV que más te gusten. Cada elemento ha de ser de tipo String.\n",
    "9.  Añade todos estos elementos en una lista llamada `lista_examen` en el orden de aparición **usando métodos de lista**.\n",
    "10. Crea `lista_examen_mod_edad` idéntica a `lista_examen` pero sustituyendo la edad por la edad + 10.\n",
    "11. Elimina un elemento de `lista_examen_mod_edad` y guárdalo en una variable.\n",
    "\n",
    "#### Diccionarios\n",
    "11. Crea una variable llamada `dict_info` con dos keys y dos values. Una key es `ciudad`, teniendo como value la ciudad en la que vives. Otra key es `portal`, teniendo como value el número de tu calle.\n",
    "12. Muestra las claves, valores e items de `dict_info`\n",
    "13. Elimina un item usando su clave.\n",
    "\n",
    "#### Tuplas\n",
    "13. Crea una variable llamada `tupla_ropa` de tipo Tuple con la marca de la prenda superior, inferior y calzado que llevas puesto.\n",
    "14. Accede a los elementos de `tupla_ropa` y muéstralos por pantalla\n",
    "15. Convierte `tupla_ropa` en una lista `lista_ropa` usando la función necesaria para ello.\n"
   ]
  },
  {
   "cell_type": "code",
   "execution_count": 1,
   "metadata": {
    "executionInfo": {
     "elapsed": 3,
     "status": "ok",
     "timestamp": 1761318043941,
     "user": {
      "displayName": "Phbas 14",
      "userId": "05610450683528718367"
     },
     "user_tz": -120
    },
    "id": "ZZnQB9rKvFLL"
   },
   "outputs": [
    {
     "name": "stdout",
     "output_type": "stream",
     "text": [
      "PedroHerrero Bas\n",
      "[32, 'Pedro', 'Herrero Bas', 1.93, True, None, ['Juego de Tronos', 'Breaking Bad', 'Spartacus', 'Muertos SL', 'Machos Alfa'], ['Juego de Tronos', 'Breaking Bad', 'Spartacus', 'Muertos SL', 'Machos Alfa']]\n",
      "[42, 'Pedro', 'Herrero Bas', 1.93, True, None, ['Juego de Tronos', 'Breaking Bad', 'Spartacus', 'Muertos SL', 'Machos Alfa'], ['Juego de Tronos', 'Breaking Bad', 'Spartacus', 'Muertos SL', 'Machos Alfa']]\n",
      "[42, 'Pedro', 'Herrero Bas', 1.93, None, ['Juego de Tronos', 'Breaking Bad', 'Spartacus', 'Muertos SL', 'Machos Alfa'], ['Juego de Tronos', 'Breaking Bad', 'Spartacus', 'Muertos SL', 'Machos Alfa']] True\n",
      "dict_keys(['ciudad', 'portal']) dict_values(['Santander', '2']) dict_items([('ciudad', 'Santander'), ('portal', '2')])\n",
      "{'ciudad': 'Santander'}\n",
      "Polo\n",
      "Dockers\n",
      "Clarks\n",
      "['Polo', 'Dockers', 'Clarks']\n"
     ]
    }
   ],
   "source": [
    "edad = 32\n",
    "nombre = 'Pedro'\n",
    "apellidos = 'Herrero Bas'\n",
    "nombre_y_apellidos = nombre + apellidos; print (nombre_y_apellidos)\n",
    "altura = 1.93\n",
    "tipo_ord = True\n",
    "nada = None\n",
    "lista_series = ['Juego de Tronos', 'Breaking Bad', 'Spartacus', 'Muertos SL', 'Machos Alfa']\n",
    "lista_examen = [edad, nombre, apellidos, altura, tipo_ord, nada, lista_series, lista_series]; print (lista_examen)\n",
    "lista_examen_mod = [lista_examen [0] + 10] + lista_examen [1:]; print (lista_examen_mod)\n",
    "variable = lista_examen_mod. pop (4); print (lista_examen_mod, variable)\n",
    "dict_info = {'ciudad' : 'Santander', 'portal' : '2'}\n",
    "print (dict_info.keys (), dict_info.values (), dict_info.items ())\n",
    "dict_info. pop ('portal'); print (dict_info)\n",
    "tupla_ropa = ('Polo', 'Dockers', 'Clarks')\n",
    "[print (elemento) for elemento in tupla_ropa]\n",
    "lista_ropa = list (tupla_ropa); print (lista_ropa)"
   ]
  },
  {
   "cell_type": "markdown",
   "metadata": {
    "id": "a1f9tci4xtBN"
   },
   "source": [
    "## Ejercicio 2: Funciones (1.5 puntos)"
   ]
  },
  {
   "cell_type": "markdown",
   "metadata": {
    "id": "gX2CK1BjxtBN"
   },
   "source": [
    "1. Crea una función que, dado un input `x`, devuelva\n",
    "$$\n",
    "y = 4x + 2\n",
    "$$\n",
    "\n",
    "2. Crea una función que, dado un input `x`, devuelva\n",
    "$$\n",
    "y = 3x^2 + 4x + 2\n",
    "$$\n",
    "\n",
    "3. Dado el polinomio\n",
    "\n",
    "$$\n",
    "a_nx^n + a_{n-1}x^{n-1} + ... + a_1x + a_0\n",
    "$$\n",
    "\n",
    "Crea una función que reciba como input `x` y una lista de `[a_0, ..., a_n]` y devuelva el valor del polinomio en `x`.\n",
    "\n",
    "**Nota**: En caso de no poder con una función, hacerlo como se pueda.\n",
    "\n",
    "**Pista**: El primero cumple `n = 1` y los parámetros son `[2, 4]`. El segundo: `n = 2` y los parámetros `[2, 4, 3]`. Con esta información, intenta generalizar."
   ]
  },
  {
   "cell_type": "code",
   "execution_count": 4,
   "metadata": {},
   "outputs": [
    {
     "name": "stdout",
     "output_type": "stream",
     "text": [
      "1.\t10\n",
      "2.\t22\n",
      "3.\t129\n"
     ]
    }
   ],
   "source": [
    "def f_1 (x) :\n",
    "    y = 4 * x + 2\n",
    "    return y\n",
    "\n",
    "def f_2 (x) :\n",
    "    y = 3 * x ** 2 + 4 * x + 2\n",
    "    return y\n",
    "\n",
    "def f_3 (x, a) :\n",
    "    y = sum ([v * x ** i for i, v in enumerate (a)])\n",
    "    return y\n",
    "\n",
    "x = 2\n",
    "a = [1, 2, 3, 4, 5]\n",
    "\n",
    "print (f'1.\\t{f_1 (x)}')\n",
    "print (f'2.\\t{f_2 (x)}')\n",
    "print (f'3.\\t{f_3 (x, a)}')"
   ]
  },
  {
   "cell_type": "markdown",
   "metadata": {
    "id": "yGt5kFzfxtBN"
   },
   "source": [
    "## Ejercicio 3: Git (1 punto)"
   ]
  },
  {
   "cell_type": "markdown",
   "metadata": {
    "id": "Xq-Fv8wmxtBN"
   },
   "source": [
    "Di si las siguientes afirmaciones son verdaderas o falsas. En caso de ser falsa, justifica tu respuesta.\n",
    "\n",
    "1. Git es un sistema de control de versiones\n",
    "2. Con `git pull` subimos los cambios al remoto\n",
    "3. En clase usamos `HTTP` como protocolo para comunicarnos con el remoto\n",
    "4. El README contiene la información resumida del proyecto\n",
    "5. Para trackear los ficheros hacemos `git commit`"
   ]
  },
  {
   "cell_type": "markdown",
   "metadata": {},
   "source": [
    "1. Correcto\n",
    "2. Falso, con git pull traemos a nuestro repositorio local lo que está colgado en la nube.\n",
    "3. Falso, HTTP es un lenguaje de programación para el diseño de webs.\n",
    "4. Falso, El README contiene toda la información del proyecto que necesite un usuario.\n",
    "5. Falso, git commit vale para archivar los cambios en el repositorio local con la información del cambio."
   ]
  },
  {
   "cell_type": "markdown",
   "metadata": {
    "id": "QE0jxlxnxtBO"
   },
   "source": [
    "## Ejercicio 4: Flujos de Control (1.5 puntos)"
   ]
  },
  {
   "cell_type": "markdown",
   "metadata": {
    "id": "Uf_KZOc2xtBO"
   },
   "source": [
    "1. Hacer un programa que permita saber si un año es bisiesto. Para que un año sea bisiesto debe ser divisible por 4 y no debe ser divisible por 100, excepto que también sea divisible por 400.\n",
    "2. Hacer un programa que, dado un número, nos diga si es Real o Entero.\n",
    "3. Declara una variable numérica que será una hora cualquiera del día. Implementa mediante sentencias `if/elif/else` la siguiente casuística:\n",
    "   * Si es entre las 0 y las 8, print \"Durmiendo\"\n",
    "   * Si es entre las 9 y las 18, print \"Trabajando\"\n",
    "   * Si es entre las 19 y las 21, print \"Clase\"\n",
    "   * Si es entre las 22 y las 24, print \"Descanso\"\n",
    "   * En cualquier otro caso, print \"Transporte o error\""
   ]
  },
  {
   "cell_type": "code",
   "execution_count": 18,
   "metadata": {},
   "outputs": [
    {
     "name": "stdout",
     "output_type": "stream",
     "text": [
      "El año introducido no es bisiesto\n"
     ]
    }
   ],
   "source": [
    "año = int (input ('Introduce un año: '))\n",
    "if (año % 4 == 0 and año % 100 != 0) or año % 400 == 0 :\n",
    "    print ('El año introducido es bisiesto')\n",
    "else :\n",
    "    print ('El año introducido no es bisiesto')\n"
   ]
  },
  {
   "cell_type": "code",
   "execution_count": 23,
   "metadata": {},
   "outputs": [
    {
     "name": "stdout",
     "output_type": "stream",
     "text": [
      "Se trata de un número real\n"
     ]
    }
   ],
   "source": [
    "numero = float (input ('Introduce un número: '))\n",
    "if numero % 1 == 0 :\n",
    "    print ('Se trata de un número entero')\n",
    "else :\n",
    "    print ('Se trata de un número real')\n",
    "\n"
   ]
  },
  {
   "cell_type": "code",
   "execution_count": 37,
   "metadata": {},
   "outputs": [
    {
     "name": "stdout",
     "output_type": "stream",
     "text": [
      "Transporte o error.\n"
     ]
    }
   ],
   "source": [
    "hora_list = [int (n) for n in (input ('¿A qué hora quieres saber lo que hago? ')). split (':')]\n",
    "\n",
    "hora_list [0] *= 60\n",
    "hora = sum (hora_list) / 60\n",
    "\n",
    "if hora >= 0 and hora <= 8 :\n",
    "    print ('Durmiendo.')\n",
    "\n",
    "elif hora >= 9 and hora <= 18 :\n",
    "    print ('Trabajando.')\n",
    "\n",
    "elif hora >= 19 and hora <= 21 :\n",
    "    print ('Clase.')\n",
    "\n",
    "elif hora >= 22 and hora <= 24 :\n",
    "    print ('Descanso.')\n",
    "\n",
    "else :\n",
    "    print ('Transporte o error.')"
   ]
  },
  {
   "cell_type": "markdown",
   "metadata": {
    "id": "RSPSwXBAxtBO"
   },
   "source": [
    "## Ejercicio 5: Calculadora simple (2 Puntos)"
   ]
  },
  {
   "cell_type": "markdown",
   "metadata": {
    "id": "VyDZE6xfxtBO"
   },
   "source": [
    "Construye un programa que:\n",
    "\n",
    "- Salude al usuario por su nombre\n",
    "- Le pregunte si quiere sumar, restar, multiplicar o dividir\n",
    "- Pida que introduzca 2 números de manera sucesiva\n",
    "- Devuelva el resultado de manera formal con un mensaje apropiado\n",
    "\n",
    "**Ayuda**: No se puede dividir por 0"
   ]
  },
  {
   "cell_type": "code",
   "execution_count": 30,
   "metadata": {
    "colab": {
     "base_uri": "https://localhost:8080/"
    },
    "executionInfo": {
     "elapsed": 4063,
     "status": "ok",
     "timestamp": 1761319939881,
     "user": {
      "displayName": "Phbas 14",
      "userId": "05610450683528718367"
     },
     "user_tz": -120
    },
    "id": "PGJK6igtxtBO",
    "outputId": "b5e44953-3c75-4db7-9548-d55ab37a98ff"
   },
   "outputs": [
    {
     "name": "stdout",
     "output_type": "stream",
     "text": [
      "Ha activado la CALCULADORA SIMPLE\n",
      "Bienvenido Pedro\n",
      "Introduce dos números de manera sucesiva y qué hacer con ellos (sumar, restar, multiplicar o dividir): 1 2 sumar\n",
      "El resultado de 1 + 2 = 3\n"
     ]
    }
   ],
   "source": [
    "diccionario = {'sumar' : '+', 'restar' : '-', 'multiplicar' : '*', 'dividir' : '/'}\n",
    "\n",
    "print (f'Ha activado la CALCULADORA SIMPLE\\nBienvenido {nombre}')\n",
    "entrada = input ('Introduce dos números de manera consecutiva y qué hacer con ellos (sumar, restar, multiplicar o dividir): '). split (' ')\n",
    "operador = diccionario [entrada [-1]]\n",
    "\n",
    "operacion = f'{entrada[0]} {operador} {entrada [1]}'\n",
    "try :\n",
    "  eval (operacion)\n",
    "except :\n",
    "  print ('No se puede dividir por 0')\n",
    "else:\n",
    "  print (f'El resultado de {operacion} = {eval (operacion)}')"
   ]
  },
  {
   "cell_type": "markdown",
   "metadata": {
    "id": "GqQjjeQjxtBO"
   },
   "source": [
    "## Ejercicio 6 (Subir Nota): Text Beautifier"
   ]
  },
  {
   "cell_type": "markdown",
   "metadata": {
    "id": "gGwf3m36xtBO"
   },
   "source": [
    "Dado el string `\"HeyYy cOmo EstAas\"`:\n",
    "\n",
    "    - Pasa todo a minúsculas con el método adecuado de la clase `str`\n",
    "    - Pon las iniciales de cada palabra en mayúscula\n",
    "    - Convierte el string en una lista de palabras\n",
    "    - Elimina las `y`"
   ]
  },
  {
   "cell_type": "code",
   "execution_count": 7,
   "metadata": {
    "colab": {
     "base_uri": "https://localhost:8080/"
    },
    "executionInfo": {
     "elapsed": 5,
     "status": "ok",
     "timestamp": 1761317920994,
     "user": {
      "displayName": "Phbas 14",
      "userId": "05610450683528718367"
     },
     "user_tz": -120
    },
    "id": "XSX9MS7DtkhR",
    "outputId": "818f0696-6b67-4f52-816a-57a1bcb505ac"
   },
   "outputs": [
    {
     "name": "stdout",
     "output_type": "stream",
     "text": [
      "HeyYy cOmo EstAas\n",
      "heyyy como estaas\n",
      "Heyyy Como Estaas\n",
      "['HeyYy', 'cOmo', 'EstAas']\n",
      "He cOmo EstAas\n"
     ]
    }
   ],
   "source": [
    "ejer_6 = 'HeyYy cOmo EstAas'\n",
    "ejer_6_m = ejer_6.lower ()\n",
    "ejer_6_t = ejer_6.title ()\n",
    "ejer_6_l = ejer_6. split (' ')\n",
    "ejer_6_y = ejer_6.replace ('y','').replace ('Y','')\n",
    "print (ejer_6, ejer_6_m, ejer_6_t, ejer_6_l, ejer_6_y, sep = '\\n')"
   ]
  },
  {
   "cell_type": "markdown",
   "metadata": {
    "id": "v5ofpi7jxtBO"
   },
   "source": [
    "## Ejercicio Extra: Calculadora (Python Badge)"
   ]
  },
  {
   "cell_type": "markdown",
   "metadata": {
    "id": "1qZ-vikLxtBO"
   },
   "source": [
    "Construye una calculadora que sea como la anterior pero:\n",
    "\n",
    "- Acepte tantos valores de entrada como queramos\n",
    "- Devuelva mensajes con las cuentas que se van haciendo.\n",
    "- Permita salir con una palabra clave (exit, quit, ...)"
   ]
  },
  {
   "cell_type": "code",
   "execution_count": 8,
   "metadata": {
    "colab": {
     "base_uri": "https://localhost:8080/",
     "height": 627
    },
    "executionInfo": {
     "elapsed": 54930,
     "status": "error",
     "timestamp": 1761321642462,
     "user": {
      "displayName": "Phbas 14",
      "userId": "05610450683528718367"
     },
     "user_tz": -120
    },
    "id": "Nc7es8XhxtBO",
    "outputId": "402f7509-d687-4bf0-e216-ba7a81756c11"
   },
   "outputs": [
    {
     "name": "stdout",
     "output_type": "stream",
     "text": [
      "Ha activado la CALCULADORA SIMPLE\n",
      "Bienvenido Pedro\n",
      "El resultado de 1 + 2 = 3 = SUBTOTAL\n",
      "---------------------------------------\n",
      "El resultado de 3 * 15 = 45 = SUBTOTAL\n",
      "---------------------------------------\n",
      "El resultado de 45 / 5 = 9.0 = SUBTOTAL\n",
      "---------------------------------------\n",
      "Gracias por usar la CALCULADORA SIMPLE, TOTAL = 9.0\n"
     ]
    }
   ],
   "source": [
    "diccionario = {'sumar' : '+', 'restar' : '-', 'multiplicar' : '*', 'dividir' : '/'}\n",
    "print (f'Ha activado la CALCULADORA SIMPLE\\nBienvenido {nombre}')\n",
    "entrada = input ('Introduce números de manera consecutiva y qué hacer con ellos (sumar, restar, multiplicar o dividir): '). split (' ')\n",
    "while True :\n",
    "  operador = diccionario [entrada [-1]]\n",
    "  operacion = f'{entrada[0]} {operador} {entrada [1]}'\n",
    "  try :\n",
    "    eval (operacion)\n",
    "  except :\n",
    "    print ('No se puede dividir por 0')\n",
    "    raise\n",
    "  else:\n",
    "    print (f'El resultado de {operacion} = {eval (operacion)} = SUBTOTAL\\n---------------------------------------')\n",
    "    entrada = [eval (operacion)] + (input ('Introduce un nuevo número y que hacer con él (sumar, restar, multiplicar, dividir o salir): '). split (' '))\n",
    "\n",
    "  if entrada [-1] == 'salir' :\n",
    "    break\n",
    "\n",
    "print (f'Gracias por usar la CALCULADORA SIMPLE, TOTAL = {eval (operacion)}')"
   ]
  }
 ],
 "metadata": {
  "colab": {
   "provenance": [
    {
     "file_id": "1pgjagdDx99uq7Oiz4tT3ejspMCv9ICer",
     "timestamp": 1761316530787
    }
   ]
  },
  "kernelspec": {
   "display_name": "venv",
   "language": "python",
   "name": "python3"
  },
  "language_info": {
   "codemirror_mode": {
    "name": "ipython",
    "version": 3
   },
   "file_extension": ".py",
   "mimetype": "text/x-python",
   "name": "python",
   "nbconvert_exporter": "python",
   "pygments_lexer": "ipython3",
   "version": "3.12.10"
  },
  "orig_nbformat": 4
 },
 "nbformat": 4,
 "nbformat_minor": 0
}
