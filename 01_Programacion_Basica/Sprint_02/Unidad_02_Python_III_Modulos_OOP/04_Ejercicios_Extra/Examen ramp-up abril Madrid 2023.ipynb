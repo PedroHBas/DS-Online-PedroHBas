{
 "cells": [
  {
   "cell_type": "markdown",
   "metadata": {
    "id": "bJyhVKZFrygh"
   },
   "source": [
    "## **NOTA IMPORTANTE**:\n",
    "\n",
    "El siguiente ejercicio corresponde a la parte práctica del Ramp-Up de la versión presencial Full-Time del bootcamp de abril de 2023 impartido en Madrid. Hay algunos ejercicios que no aplican al bootcamp online y otros que no podrás hacerlos hasta que termines la segunda unidad de este sprint, pero PUEDES EMPEZAR E IR HACIENDOLOS A MEDIDAS QUE TENGAS LOS CONOCIMIENTOS ADECUADOS!!!"
   ]
  },
  {
   "cell_type": "markdown",
   "metadata": {
    "id": "NVfdWlhdrygi"
   },
   "source": [
    "# Test RAMP UP DS-FT Abril 2023"
   ]
  },
  {
   "cell_type": "code",
   "execution_count": 1,
   "metadata": {
    "executionInfo": {
     "elapsed": 6,
     "status": "ok",
     "timestamp": 1761304505709,
     "user": {
      "displayName": "Phbas 14",
      "userId": "05610450683528718367"
     },
     "user_tz": -120
    },
    "id": "DEfGaKrSrygj"
   },
   "outputs": [],
   "source": [
    "# Escribe tu nombre y apellidos (apellido si solo tienes uno) en las variables:\n",
    "nombre = \"Pedro\"\n",
    "apellidos = \"Herrero Bas\""
   ]
  },
  {
   "cell_type": "code",
   "execution_count": 2,
   "metadata": {
    "colab": {
     "base_uri": "https://localhost:8080/"
    },
    "executionInfo": {
     "elapsed": 9,
     "status": "ok",
     "timestamp": 1761304505863,
     "user": {
      "displayName": "Phbas 14",
      "userId": "05610450683528718367"
     },
     "user_tz": -120
    },
    "id": "f13_gqGHrygk",
    "outputId": "f6eeab8a-c850-40e3-d7dc-3ef3ce237f3d"
   },
   "outputs": [
    {
     "name": "stdout",
     "output_type": "stream",
     "text": [
      "Bienvenido Pedro Herrero Bas. Mucha suerte!\n"
     ]
    }
   ],
   "source": [
    "# Solo ejecutar\n",
    "nombre_apellidos = nombre + ' ' + apellidos\n",
    "print(\"Bienvenido\", nombre_apellidos + '. Mucha suerte!')"
   ]
  },
  {
   "cell_type": "code",
   "execution_count": 3,
   "metadata": {
    "colab": {
     "base_uri": "https://localhost:8080/"
    },
    "executionInfo": {
     "elapsed": 30,
     "status": "ok",
     "timestamp": 1761304506059,
     "user": {
      "displayName": "Phbas 14",
      "userId": "05610450683528718367"
     },
     "user_tz": -120
    },
    "id": "iEaRf2YSrygl",
    "outputId": "eda627e4-f985-4fad-c096-f5600fd2e798"
   },
   "outputs": [
    {
     "name": "stdout",
     "output_type": "stream",
     "text": [
      "Antes de comenzar, cambia el nombre de este archivo notebook a Pedro_Herrero_Bas.ipynb\n"
     ]
    }
   ],
   "source": [
    "# Solo ejecutar\n",
    "print('Antes de comenzar, cambia el nombre de este archivo notebook a', nombre_apellidos.replace(' ','_') + '.ipynb')"
   ]
  },
  {
   "cell_type": "markdown",
   "metadata": {
    "id": "HGLDbzjwrygl"
   },
   "source": [
    "-----------------"
   ]
  },
  {
   "cell_type": "markdown",
   "metadata": {
    "id": "67a8u-aCrygl"
   },
   "source": [
    "## Segunda parte ejercicios prácticos (7 puntos):\n"
   ]
  },
  {
   "cell_type": "code",
   "execution_count": 4,
   "metadata": {
    "executionInfo": {
     "elapsed": 5,
     "status": "ok",
     "timestamp": 1761304506609,
     "user": {
      "displayName": "Phbas 14",
      "userId": "05610450683528718367"
     },
     "user_tz": -120
    },
    "id": "s5zOQYDArygm"
   },
   "outputs": [],
   "source": [
    "# No te olvides de documentar el código para dejar clara la lógica, sobre todo cuando no sale el resultado"
   ]
  },
  {
   "cell_type": "markdown",
   "metadata": {
    "id": "5Xxgi_jwrygm"
   },
   "source": [
    "### Ejercicio 1 (1 punto)\n",
    "En este ejercicio se va a crear una lista con los siguientes elementos. Primero, crearemos las variables que luego añadiremos a la lista. Las variables son las siguientes:\n",
    "\n",
    "1. Crea una variable llamada `edad` de tipo Integer que represente tu edad en años.\n",
    "2. Crea una variable llamada `poblacion` de tipo String , con tu población de nacimiento.\n",
    "3. Crea una variable llamada `altura` con el valor de tu altura en metros de tipo float.\n",
    "4. Crea una variable llamada `s_operativo` de tipo Boolean True si usas Windows y False si usas otro.\n",
    "5. Crea una variable llamada `nada` de tipo None cuyo valor sea None.\n",
    "6. Crea una variable llamada `lista_vacaciones` de tipo List que contenga 5 destinos de viaje a los que te gustaría ir. Cada elemento ha de ser de tipo String.\n",
    "7. Crea una variable llamada `tupla_isla` de tipo Tuple con tres objetos que te llevarías a una isla desierta.\n",
    "8. Crea una variable llamada `dict_pc` con dos keys y dos values. Una key es `marca`, teniendo como value la marca de tu pc de tipo String. Otra key es la `ram`, cuyo valor es un entero del número de gigas de la ram de tu ordenador\n",
    "9. Añade todos estas variables en una lista llamada `lista_examen` en el orden de aparición.\n",
    "10. Guarda en la variable `lon_lista_examen` la longitud de `lista_examen`."
   ]
  },
  {
   "cell_type": "code",
   "execution_count": 5,
   "metadata": {
    "colab": {
     "base_uri": "https://localhost:8080/"
    },
    "executionInfo": {
     "elapsed": 22,
     "status": "ok",
     "timestamp": 1761306192977,
     "user": {
      "displayName": "Phbas 14",
      "userId": "05610450683528718367"
     },
     "user_tz": -120
    },
    "id": "gc43zRt2rygm",
    "outputId": "07f164e2-64bb-401f-8763-2efb4ad29d88"
   },
   "outputs": [
    {
     "name": "stdout",
     "output_type": "stream",
     "text": [
      "[32, 'Santander', 1.93, True, None, ['Japón', 'Corea', 'México', 'EEUU', 'Australia'], ('Cuchillo', 'Traje de baño', 'Crema solar'), {'marca': 'AMD', 'RAM': 16}]\n"
     ]
    }
   ],
   "source": [
    "edad = 32\n",
    "poblacion = 'Santander'\n",
    "altura = 1.93\n",
    "s_operativo = True\n",
    "nada = None\n",
    "lista_vacaciones = ['Japón','Corea','México','EEUU','Australia']\n",
    "tupla_isla = ('Cuchillo','Traje de baño','Crema solar')\n",
    "dict_pc = {'marca' : 'AMD', 'RAM' : 16}\n",
    "lista_examen = [edad, poblacion, altura, s_operativo, nada, lista_vacaciones, tupla_isla, dict_pc]\n",
    "lon_lista_examen = len (lista_examen)\n",
    "print (lista_examen)"
   ]
  },
  {
   "cell_type": "markdown",
   "metadata": {
    "id": "2xkHGrxsrygn"
   },
   "source": [
    "### Ejercicio 2 (2 puntos)\n",
    "\n",
    "Para resolver este ejercicio necesitarás la lista del ejercicio anterior (`lista_examen`). Se recomienda leer cada punto hasta el final antes de resolver el ejercicio.\n",
    "\n",
    "Se repite para que quede aún más claro: **SOLO USAR LA VARIABLE** `lista_examen`. Usar otra variable se calificará como error.  "
   ]
  },
  {
   "cell_type": "markdown",
   "metadata": {
    "id": "ff4becae-86c4-46ab-9e09-3aeec5296700"
   },
   "source": [
    "1. Guardar en las variables, sin uso de funciones (puedes usar print) ni bucles. (0.5)\n",
    "    - `res21` El tercer destino de vacaciones\n",
    "    - `res22` El penúltimo objeto que te llevarías a una isla para todo tipo de longitudes de listados.\n",
    "    - `res23` Los 3 primeros caracteres de la población de nacimiento.\n",
    "    - `res24` Una lista de los valores del diccionario de tu pc.\n",
    "    - `res25` Guardar dentro del diccionario dentro de `lista_examen` una nueva clave llamada `s_operativo` con una lista de 3 booleanos, True si es Windows, de tus últimos 3 pcs.\n",
    "\n",
    "<br></br>"
   ]
  },
  {
   "cell_type": "code",
   "execution_count": 6,
   "metadata": {
    "colab": {
     "base_uri": "https://localhost:8080/"
    },
    "executionInfo": {
     "elapsed": 7,
     "status": "ok",
     "timestamp": 1761306159408,
     "user": {
      "displayName": "Phbas 14",
      "userId": "05610450683528718367"
     },
     "user_tz": -120
    },
    "id": "UTwQq9ztrygn",
    "outputId": "f7be32b1-e020-4786-d6da-2b68d26d9896"
   },
   "outputs": [
    {
     "name": "stdout",
     "output_type": "stream",
     "text": [
      "México Traje de baño San ['AMD', 16] [True, True, False]\n",
      "[32, 'Santander', 1.93, True, None, ['Japón', 'Corea', 'México', 'EEUU', 'Australia'], ('Cuchillo', 'Traje de baño', 'Crema solar'), {'marca': 'AMD', 'RAM': 16, 's_operativo': [True, True, False]}]\n"
     ]
    }
   ],
   "source": [
    "res21 = lista_examen [5][2]\n",
    "res22 = lista_examen [-2][-2]\n",
    "res23 = lista_examen [1][:3]\n",
    "res24 = list (lista_examen [7]. values ())\n",
    "res25 = lista_examen [7]['s_operativo'] = [True, True, False]\n",
    "\n",
    "print (res21, res22, res23, res24, res25)\n",
    "print (lista_examen)"
   ]
  },
  {
   "cell_type": "markdown",
   "metadata": {
    "id": "NX9bEoZKrygn"
   },
   "source": [
    "    \n",
    "2. Mostrar por pantalla, con uso de un bucle `for`. (0.75)\n",
    "    - Las posiciones y elementos de `lista_examen` de las posiciones impares.\n",
    "    - Todos los elementos de `lista_examen` al revés.\n",
    "    - Todos aquellos elementos que sean colecciones ordenadas de `lista_examen`, si no lo son, imprimir el tipo."
   ]
  },
  {
   "cell_type": "code",
   "execution_count": 7,
   "metadata": {
    "colab": {
     "base_uri": "https://localhost:8080/"
    },
    "executionInfo": {
     "elapsed": 5,
     "status": "ok",
     "timestamp": 1761306160153,
     "user": {
      "displayName": "Phbas 14",
      "userId": "05610450683528718367"
     },
     "user_tz": -120
    },
    "id": "245VM6KBrygn",
    "outputId": "d2bd1e86-51c3-4186-f011-65cef123a6c8"
   },
   "outputs": [
    {
     "name": "stdout",
     "output_type": "stream",
     "text": [
      "['Santander', True, ['Japón', 'Corea', 'México', 'EEUU', 'Australia'], {'marca': 'AMD', 'RAM': 16, 's_operativo': [True, True, False]}]\n",
      "[{'marca': 'AMD', 'RAM': 16, 's_operativo': [True, True, False]}, ('Cuchillo', 'Traje de baño', 'Crema solar'), ['Japón', 'Corea', 'México', 'EEUU', 'Australia'], None, True, 1.93, 'Santander', 32]\n",
      "[<class 'int'>, <class 'str'>, <class 'float'>, <class 'bool'>, <class 'NoneType'>, ['Japón', 'Corea', 'México', 'EEUU', 'Australia'], ('Cuchillo', 'Traje de baño', 'Crema solar'), {'marca': 'AMD', 'RAM': 16, 's_operativo': [True, True, False]}]\n"
     ]
    }
   ],
   "source": [
    "print ([val for i, val in enumerate (lista_examen) if i % 2 == 1])\n",
    "print ([val for val in lista_examen [ : : -1]])\n",
    "print ([val if (isinstance (val, list) or isinstance (val, tuple) or isinstance (val, dict)) else type (val) for val in lista_examen])"
   ]
  },
  {
   "cell_type": "markdown",
   "metadata": {
    "id": "X4tuHy2Prygn"
   },
   "source": [
    "3. Con uso del bucle `while`, borra los destinos por la cola hasta que tengas 3 destinos, y guarda esos destinos borrados en una nueva lista `destinos_borrados` (0.75)"
   ]
  },
  {
   "cell_type": "code",
   "execution_count": 8,
   "metadata": {
    "colab": {
     "base_uri": "https://localhost:8080/"
    },
    "executionInfo": {
     "elapsed": 8,
     "status": "ok",
     "timestamp": 1761306196561,
     "user": {
      "displayName": "Phbas 14",
      "userId": "05610450683528718367"
     },
     "user_tz": -120
    },
    "id": "ujQhFLpHrygn",
    "outputId": "bff7b201-baaa-45a9-f906-3024c680d1f7"
   },
   "outputs": [
    {
     "name": "stdout",
     "output_type": "stream",
     "text": [
      "[32, 'Santander', 1.93, True, None, ['Japón', 'Corea', 'México'], ('Cuchillo', 'Traje de baño', 'Crema solar'), {'marca': 'AMD', 'RAM': 16, 's_operativo': [True, True, False]}]\n",
      "['Australia', 'EEUU']\n"
     ]
    }
   ],
   "source": [
    "destinos_borrados = []\n",
    "while len (lista_examen [5]) > 3 :\n",
    "  destinos_borrados. append (lista_examen [5]. pop (-1))\n",
    "\n",
    "print (lista_examen)\n",
    "print (destinos_borrados)"
   ]
  },
  {
   "cell_type": "markdown",
   "metadata": {
    "id": "TKfrSMr_rygo"
   },
   "source": [
    "### Ejercicio 3 (2 puntos)\n",
    "\n",
    "#### Crear un programa que calcule la cuota de una hipoteca\n",
    "\n",
    "Las cuotas hipotecarias se calculan utilizando la fórmula del interés francés.\n",
    "\n",
    "La fórmula del interés francés es la siguiente:\n",
    "\\begin{align*}\n",
    "C=V \\frac{(1+i)^n i}{(1+i)^n -1}\n",
    "\\end{align*}\n",
    "\n",
    "\n",
    "    C = cuota a pagar (mensual)\n",
    "    V = volumen del préstamo hipotecario\n",
    "    i = tipo de interés del período (mensual)\n",
    "    n = número de cuotas (mensuales)\n",
    "\n"
   ]
  },
  {
   "cell_type": "markdown",
   "metadata": {
    "id": "jsp9EzhMrygo"
   },
   "source": [
    "1. Crea un programa que solicite al usuario los datos de su hipoteca mediante input() los datos (volumen, interés **anual**, y plazo en **años**) y le devuelva la cuota **mensual** a pagar. No es necesario encapsularlo en funciones. (0.4)"
   ]
  },
  {
   "cell_type": "code",
   "execution_count": 9,
   "metadata": {
    "colab": {
     "base_uri": "https://localhost:8080/"
    },
    "executionInfo": {
     "elapsed": 4514,
     "status": "ok",
     "timestamp": 1761306569829,
     "user": {
      "displayName": "Phbas 14",
      "userId": "05610450683528718367"
     },
     "user_tz": -120
    },
    "id": "Lci1mLTWrygo",
    "outputId": "13dd8cfe-e8a2-45b9-8d2e-dec56ed16c52"
   },
   "outputs": [
    {
     "name": "stdout",
     "output_type": "stream",
     "text": [
      "350000.0 5.0 20.0\n"
     ]
    }
   ],
   "source": [
    "# volumen, interes, plazo = list( map (float, input ('Introduce los siguientes datos en orden separados por comas: volumen, interés anual y plazo en años.').split (',')))\n",
    "volumen, interes, plazo = [float(n) for n in input('Introduce los siguientes datos en orden separados por comas: volumen, interés anual y plazo en años.').split (',')]\n",
    "print (volumen, interes, plazo)"
   ]
  },
  {
   "cell_type": "markdown",
   "metadata": {
    "id": "Yi0JYYQHrygo"
   },
   "source": [
    "2. Crea una función `calcular_hip` que realiza el cálculo y cuyos argumentos de entrada sean `volumen`, `interes_anual` y `años`, devolviendo la couta mensual(float). El argumento de `años` deberá de tener un valor por defecto de 30. Documenta la función con el estilo de Google.  (0.4)"
   ]
  },
  {
   "cell_type": "code",
   "execution_count": 10,
   "metadata": {
    "executionInfo": {
     "elapsed": 11,
     "status": "ok",
     "timestamp": 1761307117880,
     "user": {
      "displayName": "Phbas 14",
      "userId": "05610450683528718367"
     },
     "user_tz": -120
    },
    "id": "ItTPIKBmrygo"
   },
   "outputs": [],
   "source": [
    "def calcular_hip (volumen, interes_anual, años = 30) :\n",
    "  interes_mes = interes_anual / (12 * 100)\n",
    "  cuota_mensual = volumen * (1 + interes_mes) ** (años * 12) * (interes_mes) / ((1+ interes_mes) ** (años * 12) - 1)\n",
    "  return cuota_mensual"
   ]
  },
  {
   "cell_type": "markdown",
   "metadata": {
    "id": "mWsCP26Grygo"
   },
   "source": [
    "3. Calcula la cuota y guárdala en la variable `res_cuota` si la cantidad de la hipoteca son 350000 euros, el interés anual es del 5% y la quiere pagar en 20 años a partir de la función `calcular_hip`. (0.4)\n",
    "\n"
   ]
  },
  {
   "cell_type": "code",
   "execution_count": 11,
   "metadata": {
    "colab": {
     "base_uri": "https://localhost:8080/"
    },
    "executionInfo": {
     "elapsed": 7,
     "status": "ok",
     "timestamp": 1761307118583,
     "user": {
      "displayName": "Phbas 14",
      "userId": "05610450683528718367"
     },
     "user_tz": -120
    },
    "id": "qGPs2K5Zrygo",
    "outputId": "f514dc11-3df9-48ab-bf43-5e0aeb111cd4"
   },
   "outputs": [
    {
     "name": "stdout",
     "output_type": "stream",
     "text": [
      "2309.8450872583057\n"
     ]
    }
   ],
   "source": [
    "res_cuota = calcular_hip (350000, 5, 20)\n",
    "print (res_cuota)"
   ]
  },
  {
   "cell_type": "markdown",
   "metadata": {
    "id": "enLvYR-Lrygo"
   },
   "source": [
    "4. Crea una función `gasto_vivienda`, con dos argumentos de entrada `ingreso` y `lista_hip`. Esta lista tendrá los 3 valores de los argumentos de entrada de `calcular_hip`, llamando a esta función desde dentro de `gasto_vivienda`. Tiene que devolver el valor del porcentaje de gasto en la hipoteca respecto a los ingresos. (Entre 0 y 1, es decir 0.5 si es del 50%) Documenta la función. (0.4)"
   ]
  },
  {
   "cell_type": "code",
   "execution_count": 12,
   "metadata": {
    "executionInfo": {
     "elapsed": 14,
     "status": "ok",
     "timestamp": 1761307407197,
     "user": {
      "displayName": "Phbas 14",
      "userId": "05610450683528718367"
     },
     "user_tz": -120
    },
    "id": "WRMijH8Drygo"
   },
   "outputs": [],
   "source": [
    "def gasto_vivienda ( ingreso, lista_hip) :\n",
    "  volumen, interes_anual, años = lista_hip\n",
    "  cuota_mensual = calcular_hip (volumen, interes_anual, años)\n",
    "  return cuota_mensual / ingreso"
   ]
  },
  {
   "cell_type": "markdown",
   "metadata": {
    "id": "Z9mI5_WTrygp"
   },
   "source": [
    "5. Calcula el porcentaje de gasto en la hipoteca si el ingreso es de 1700 euros y guárdalo en la variable `res_porcentaje` a partir de la función `gasto_vivienda`. (0.4)\n"
   ]
  },
  {
   "cell_type": "code",
   "execution_count": 13,
   "metadata": {
    "colab": {
     "base_uri": "https://localhost:8080/"
    },
    "executionInfo": {
     "elapsed": 30,
     "status": "ok",
     "timestamp": 1761307407889,
     "user": {
      "displayName": "Phbas 14",
      "userId": "05610450683528718367"
     },
     "user_tz": -120
    },
    "id": "XV7IZA12rygp",
    "outputId": "c9bde832-1440-4296-ee21-ac9e8ef00cac"
   },
   "outputs": [
    {
     "name": "stdout",
     "output_type": "stream",
     "text": [
      "135.87324042695917\n"
     ]
    }
   ],
   "source": [
    "res_porcentaje = gasto_vivienda (1700, [350000, 5, 20])\n",
    "print (res_porcentaje * 100)"
   ]
  },
  {
   "cell_type": "markdown",
   "metadata": {
    "id": "SZ2vKUrArygp"
   },
   "source": [
    "### Ejercicio 4 (2 puntos)\n",
    "\n",
    "1. Crea una clase `Cliente` que tenga 1 atributo general `mamífero`(bool True) y 6 atributos en el constructor: `ojos`(int default 2), `altura`(float), `edad`(int), `ahorros`(float), `target`(bool default True) y `nombre`(str). Además, debe contar con dos métodos:\n",
    "\n",
    "- `cumplir_edad()`: al llamar a este método se debe sumar 1 al atributo edad del cliente y que retorne \"Felices x años!\" con la edad actualizada. Si cumple 80, su altura pasará a ser el 90% de su altura original.\n",
    "- `comprar()` que recibe el argumento de `volumen_gasto`(list): este método debe actualizar el atributo de ahorros, restándole el volumen del gasto total, retornando esos ahorros actualizados. Si el cliente tiene 0 ahorros o menos, deberá de cambiar el atributo `target` a False.\n",
    "\n",
    "Documenta la clase, el constructor y los métodos (1.25)"
   ]
  },
  {
   "cell_type": "code",
   "execution_count": 44,
   "metadata": {
    "id": "Wv-2KMyZrygp"
   },
   "outputs": [],
   "source": [
    "class Cliente :\n",
    "    mamífero = True\n",
    "\n",
    "    def __init__ (self, nombre : str, altura : float, edad : int, ahorros : float, target : bool = True, ojos : int = 2,) :\n",
    "        self.nombre = nombre\n",
    "        self.altura = altura\n",
    "        self.edad = edad\n",
    "        self.ahorros = ahorros\n",
    "        self.target = target\n",
    "        self.ojos = ojos\n",
    "\n",
    "    def __str__ (self) :\n",
    "        return f'Cliente {self.nombre}, altura = {self.altura:.2f}, edad = {self.edad}, ahorros = {self.ahorros}, target = {self.target}'\n",
    "\n",
    "    def cumplir_edad (self) :\n",
    "        self.edad += 1\n",
    "        return f'Felices {self.edad} años'\n",
    "    \n",
    "    def comprar (self, volumen_gasto : list) :\n",
    "        self.ahorros -= sum (volumen_gasto)\n",
    "        if self.ahorros <= 0 :\n",
    "            self.target = False\n",
    "        return f'Los ahorros actuales de {self.nombre} son {self.ahorros}'"
   ]
  },
  {
   "cell_type": "markdown",
   "metadata": {
    "id": "zH1TkBEKrygp"
   },
   "source": [
    "\n",
    "2. (a partir de la variable **`lista_examen`**) Crea un cliente instanciandolo en el objeto `cliente_1` llamado \"Manuel\" que tiene el doble de tu de edad y mide 10 centímetros menos que tu altura. Tiene unos ahorros de 3000 euros, y al ser un cliente con capacidad de gasto en nuestro negocio, queremos fidelizarlo en nuestra campaña, el valor `target` será True el resto de atributos puedes elegir un valor. (0.25)"
   ]
  },
  {
   "cell_type": "code",
   "execution_count": 45,
   "metadata": {
    "id": "GCESit85rygp"
   },
   "outputs": [
    {
     "name": "stdout",
     "output_type": "stream",
     "text": [
      "Cliente Manuel, altura = 1.83, edad = 64, ahorros = 3000, target = True\n"
     ]
    }
   ],
   "source": [
    "cliente_1 = Cliente ('Manuel', lista_examen [2] - 0.1, lista_examen [0] * 2, 3000)\n",
    "print (cliente_1)"
   ]
  },
  {
   "cell_type": "markdown",
   "metadata": {
    "id": "K4dvZUhPrygp"
   },
   "source": [
    "\n",
    "3. (a partir de la variable **`lista_examen`**) Crea un cliente instanciandolo en el objeto `cliente_2` llamada \"Laura\" con la mitad de tu edad y la altura de Manuel. Tiene unos ahorros de 2000 euros y al ser un cliente con capacidad de gasto en nuestro negocio, queremos fidelizarlo en nuestra campaña, el valor `target` será True el resto de atributos puedes elegir un valor. (0.25)\n",
    "\n"
   ]
  },
  {
   "cell_type": "code",
   "execution_count": 46,
   "metadata": {
    "id": "5Bl_DLpzrygp"
   },
   "outputs": [
    {
     "name": "stdout",
     "output_type": "stream",
     "text": [
      "Cliente Laura, altura = 1.83, edad = 16.0, ahorros = 2000, target = True\n"
     ]
    }
   ],
   "source": [
    "cliente_2 = Cliente ('Laura', edad = lista_examen [0] / 2, altura = cliente_1.altura, ahorros = 2000)\n",
    "print (cliente_2)"
   ]
  },
  {
   "cell_type": "markdown",
   "metadata": {
    "id": "ZwYhfKgirygp"
   },
   "source": [
    "4. Haz que cumplan años tus dos clientes. Les quieres fidelizar, por lo que les mandas una oferta comercial de productos. Manuel compra 3 productos de 1000, 400 y 2000 euros mientras que Laura compra solo 1 producto de 1000. Comprueba el valor de los atributos `edad` , `ahorros` y `target` de ambos clientes. (0.25)"
   ]
  },
  {
   "cell_type": "code",
   "execution_count": 47,
   "metadata": {
    "id": "AyXGl_N1rygp"
   },
   "outputs": [
    {
     "name": "stdout",
     "output_type": "stream",
     "text": [
      "Felices 65 años\n",
      "Felices 17.0 años\n",
      "Los ahorros actuales de Manuel son -400\n",
      "Los ahorros actuales de Laura son 1000\n",
      "Cliente Manuel, altura = 1.83, edad = 65, ahorros = -400, target = False\n",
      "Cliente Laura, altura = 1.83, edad = 17.0, ahorros = 1000, target = True\n"
     ]
    }
   ],
   "source": [
    "print (cliente_1.cumplir_edad())\n",
    "print (cliente_2.cumplir_edad())\n",
    "print (cliente_1.comprar ([1000, 400, 2000]))\n",
    "print (cliente_2.comprar ([1000]))\n",
    "print (cliente_1)\n",
    "print (cliente_2)\n",
    "\n"
   ]
  }
 ],
 "metadata": {
  "colab": {
   "provenance": [
    {
     "file_id": "1U4db2Qsn5fasyM557vveNUPubDAJ4x-F",
     "timestamp": 1761303416078
    }
   ]
  },
  "kernelspec": {
   "display_name": "venv",
   "language": "python",
   "name": "python3"
  },
  "language_info": {
   "codemirror_mode": {
    "name": "ipython",
    "version": 3
   },
   "file_extension": ".py",
   "mimetype": "text/x-python",
   "name": "python",
   "nbconvert_exporter": "python",
   "pygments_lexer": "ipython3",
   "version": "3.12.10"
  },
  "orig_nbformat": 4
 },
 "nbformat": 4,
 "nbformat_minor": 0
}
