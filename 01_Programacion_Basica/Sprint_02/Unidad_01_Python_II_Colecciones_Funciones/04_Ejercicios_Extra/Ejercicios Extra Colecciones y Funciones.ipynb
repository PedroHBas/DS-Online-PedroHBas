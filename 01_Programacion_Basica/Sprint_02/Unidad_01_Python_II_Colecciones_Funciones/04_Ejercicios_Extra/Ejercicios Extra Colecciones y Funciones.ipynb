{
 "cells": [
  {
   "cell_type": "markdown",
   "metadata": {
    "id": "Y9x27-tUczVY"
   },
   "source": [
    "![TheBridge_logo_RGB_color.jpg](attachment:TheBridge_logo_RGB_color.jpg)"
   ]
  },
  {
   "cell_type": "markdown",
   "metadata": {
    "id": "BR4u0aagczVZ"
   },
   "source": [
    "![ejercicios.png](attachment:ejercicios.png)"
   ]
  },
  {
   "cell_type": "markdown",
   "metadata": {
    "id": "DKcA9NWLczVZ"
   },
   "source": [
    "## EJERCICIOS EXTRA PYTHON BASICO II:"
   ]
  },
  {
   "cell_type": "markdown",
   "metadata": {
    "id": "CqSAUjRhczVZ"
   },
   "source": [
    "Los siguientes ejercicios son para que practiques por tu cuenta si te apetece. No es obligatorio hacerlo, pero seguramente te divertirás practicando con ellos. Si quieres la solución, no te cortes, y pídela :-)"
   ]
  },
  {
   "cell_type": "markdown",
   "metadata": {
    "id": "xMNOs3HjczVZ"
   },
   "source": [
    "## Ejercicio 1\n",
    "Crea una lista nueva con todas las combinaciones de las siguientes dos listas:\n",
    "> ```ejer_3_1 = [\"Hola\", \"amigo\"]```\n",
    ">\n",
    "> ```ejer_3_2 = [\"Que\", \"tal\"]```\n",
    "\n",
    "Obten el siguiente output:\n",
    "\n",
    "['Hola Que', 'Hola tal', 'amigo Que', 'amigo tal']"
   ]
  },
  {
   "cell_type": "code",
   "execution_count": 1,
   "metadata": {
    "colab": {
     "base_uri": "https://localhost:8080/"
    },
    "executionInfo": {
     "elapsed": 24,
     "status": "ok",
     "timestamp": 1761228667580,
     "user": {
      "displayName": "Phbas 14",
      "userId": "05610450683528718367"
     },
     "user_tz": -120
    },
    "id": "Px7QRFTZczVa",
    "outputId": "4e0d0298-e55a-412d-c7bd-cb431d90ac49"
   },
   "outputs": [
    {
     "name": "stdout",
     "output_type": "stream",
     "text": [
      "['Hola Que', 'Hola tal', 'amigo Que', 'amigo tal']\n"
     ]
    }
   ],
   "source": [
    "ejer_3_1 = ['Hola', 'amigo']\n",
    "ejer_3_2 = ['Que', 'tal']\n",
    "\n",
    "ejer_3_3 = []\n",
    "\n",
    "for i in ejer_3_1 :\n",
    "  for j in ejer_3_2 :\n",
    "    ejer_3_3.append (i + ' ' + j)\n",
    "\n",
    "print (ejer_3_3)"
   ]
  },
  {
   "cell_type": "markdown",
   "metadata": {
    "id": "gBlbG-OjczVa"
   },
   "source": [
    "## Ejercicio 2\n",
    "1. Crea una tupla con 3 elementos\n",
    "2. Crea otra tupla con un elemento y comprueba su tipo\n",
    "3. Crea una tupla con elementos de diferentes tipos\n",
    "4. Imprime por pantalla el primer y ultimo elemento de la tupla del apartado 3. Usa `len` para el ultimo\n",
    "5. Añade un elemento a la tupla del apartado 3.\n",
    "6. Eliminar un elemento de la tupla del apartado 5, que se encuentre más o menos en la mitad.\n",
    "7. Convierte la tupla del apartado 5 en una lista"
   ]
  },
  {
   "cell_type": "code",
   "execution_count": 10,
   "metadata": {
    "colab": {
     "base_uri": "https://localhost:8080/"
    },
    "executionInfo": {
     "elapsed": 6,
     "status": "ok",
     "timestamp": 1761229203382,
     "user": {
      "displayName": "Phbas 14",
      "userId": "05610450683528718367"
     },
     "user_tz": -120
    },
    "id": "BugkdOKSczVa",
    "outputId": "ae95258d-e24a-4cf8-a8af-1bb3e85948fb"
   },
   "outputs": [
    {
     "name": "stdout",
     "output_type": "stream",
     "text": [
      "1.\t ('uno', 'dos', 'tres')\n",
      "1.\t ('diez',) <class 'tuple'>\n",
      "3.\t (8, 'ocho', 8.0)\n",
      "4.\t 8 8.0\n",
      "5.\t (8, 'ocho', 8.0, True)\n",
      "6.\t (8, 'ocho', True)\n",
      "7.\t [8, 'ocho', True]\n"
     ]
    }
   ],
   "source": [
    "ejer_2_1 = ('uno', 'dos', 'tres')\n",
    "print ('1.\\t', ejer_2_1)\n",
    "\n",
    "ejer_2_2 = ('diez', )\n",
    "print ('1.\\t', ejer_2_2, type (ejer_2_2))\n",
    "\n",
    "ejer_2_3 = (8, 'ocho', 8.0)\n",
    "print ('3.\\t', ejer_2_3)\n",
    "\n",
    "print ('4.\\t', ejer_2_3[0], ejer_2_3[len(ejer_2_3)-1])\n",
    "\n",
    "ejer_2_3 += (True,)\n",
    "print ('5.\\t', ejer_2_3)\n",
    "\n",
    "ejer_2_3 = ejer_2_3 [ : int(len (ejer_2_3) / 2)] + ejer_2_3 [int (len (ejer_2_3) / 2 + 1) : ]\n",
    "print ('6.\\t', ejer_2_3)\n",
    "\n",
    "ejer_2_3 = list (ejer_2_3)\n",
    "print ('7.\\t', ejer_2_3)"
   ]
  },
  {
   "cell_type": "markdown",
   "metadata": {
    "id": "WpfJajHxczVa"
   },
   "source": [
    "## Ejercicio 3\n",
    "\n",
    "Crea una función que permita eliminar los elementos de una lista o tupla, incluso los repetidos. Para ello la función debe admitir un número arbitrario de elementos a eliminar, la lista o tupla que debe eliminarse, el número de elementos repetidos que debe eliminarse, este parámetro por defecto debe estar a None, que quiere decir todos los elementos repetidos.\n",
    "\n",
    "Si el elemento no está en la lista o tupla debe imprimirlo por pantalla y no dar error.\n"
   ]
  },
  {
   "cell_type": "code",
   "execution_count": 49,
   "metadata": {
    "colab": {
     "base_uri": "https://localhost:8080/"
    },
    "executionInfo": {
     "elapsed": 4,
     "status": "ok",
     "timestamp": 1761231050675,
     "user": {
      "displayName": "Phbas 14",
      "userId": "05610450683528718367"
     },
     "user_tz": -120
    },
    "id": "PNJzg6woczVa",
    "outputId": "527fc982-3282-4004-8295-9ea2d88f6fb5"
   },
   "outputs": [
    {
     "name": "stdout",
     "output_type": "stream",
     "text": [
      "El elemento 6 no está en la lista original, por lo que no se puede eliminar\n",
      "(1, 2, 4)\n"
     ]
    }
   ],
   "source": [
    "def eliminar (num, entrada, rep = None) :\n",
    "  lista = list (entrada)\n",
    "  num = list (num)\n",
    "\n",
    "  for i, v in enumerate (num) :\n",
    "    cont = 0\n",
    "    for j, w in enumerate (lista [:]) :\n",
    "      if v == w :\n",
    "        lista.remove (w)\n",
    "        cont += 1\n",
    "        if cont == rep :\n",
    "          break\n",
    "    if cont == 0 :\n",
    "      print ('El elemento', v, 'no está en la lista original, por lo que no se puede eliminar')\n",
    "\n",
    "  if isinstance (entrada, tuple) :\n",
    "    lista = tuple (lista)\n",
    "\n",
    "  return (lista)\n",
    "\n",
    "print (eliminar ([2, 3, 6], (1, 2, 2, 3, 3, 2, 4), 2))"
   ]
  },
  {
   "cell_type": "markdown",
   "metadata": {
    "id": "vlNE5yH5czVb"
   },
   "source": [
    "## Ejercicio 4"
   ]
  },
  {
   "cell_type": "markdown",
   "metadata": {
    "id": "7S3YbNXuczVb"
   },
   "source": [
    "Escribir una función que añada o elimine elementos en una lista. La función necesita los siguientes argumentos:\n",
    "* lista: la lista donde se añadirán o eliminarán los elementos\n",
    "* comando: \"add\" o \"remove\"\n",
    "* elemento: Por defecto es None."
   ]
  },
  {
   "cell_type": "code",
   "execution_count": 55,
   "metadata": {
    "colab": {
     "base_uri": "https://localhost:8080/"
    },
    "executionInfo": {
     "elapsed": 2608,
     "status": "ok",
     "timestamp": 1761231450516,
     "user": {
      "displayName": "Phbas 14",
      "userId": "05610450683528718367"
     },
     "user_tz": -120
    },
    "id": "PZE5HnpkczVb",
    "outputId": "2aef7fed-969d-4a29-e7cd-d54bea42eb84"
   },
   "outputs": [
    {
     "name": "stdout",
     "output_type": "stream",
     "text": [
      "Escribe correctamente add o remove:remove\n",
      "[1, 3]\n"
     ]
    }
   ],
   "source": [
    "def ejer_4 (lista, comando, elemento = None) :\n",
    "  if comando == 'add' :\n",
    "    lista.append (elemento)\n",
    "  elif comando == 'remove' :\n",
    "    lista.remove (elemento)\n",
    "  else :\n",
    "    comando = input ('Escribe correctamente add o remove:')\n",
    "    ejer_4 (lista, comando, elemento)\n",
    "  return (lista)\n",
    "\n",
    "print (ejer_4 ([1, 2, 3], 'uy', 2))"
   ]
  },
  {
   "cell_type": "markdown",
   "metadata": {
    "id": "12jURwOZczVb"
   },
   "source": [
    "## Ejercicio 5"
   ]
  },
  {
   "cell_type": "markdown",
   "metadata": {
    "id": "_4Fi0nF2czVb"
   },
   "source": [
    "Dividir entre 100 los elementos positivos de una lista"
   ]
  },
  {
   "cell_type": "code",
   "execution_count": 56,
   "metadata": {
    "colab": {
     "base_uri": "https://localhost:8080/"
    },
    "executionInfo": {
     "elapsed": 7,
     "status": "ok",
     "timestamp": 1761231538052,
     "user": {
      "displayName": "Phbas 14",
      "userId": "05610450683528718367"
     },
     "user_tz": -120
    },
    "id": "wkX-WbANczVb",
    "outputId": "8e6eac1a-678d-4c64-c9b7-945fa8b4eaed"
   },
   "outputs": [
    {
     "name": "stdout",
     "output_type": "stream",
     "text": [
      "[0.1, 0.05, -1, 0.2, 0.3, -100, 0]\n"
     ]
    }
   ],
   "source": [
    "L = [10, 5, -1, 20, 30, -100, 0]\n",
    "\n",
    "for i, v in enumerate (L) :\n",
    "  if v > 0 :\n",
    "    L [i] = v / 100\n",
    "\n",
    "print (L)\n",
    "# Método tradicional\n"
   ]
  },
  {
   "cell_type": "code",
   "execution_count": 57,
   "metadata": {
    "executionInfo": {
     "elapsed": 9,
     "status": "ok",
     "timestamp": 1761231600288,
     "user": {
      "displayName": "Phbas 14",
      "userId": "05610450683528718367"
     },
     "user_tz": -120
    },
    "id": "TbaStuMPczVb"
   },
   "outputs": [],
   "source": [
    "# Con comprensión de listas\n",
    "\n",
    "L = [10, 5, -1, 20, 30, -100, 0]"
   ]
  },
  {
   "cell_type": "markdown",
   "metadata": {
    "id": "XvFd3ySKczVb"
   },
   "source": [
    "## Ejercicios 6"
   ]
  },
  {
   "cell_type": "markdown",
   "metadata": {
    "id": "xFbjocF8czVc"
   },
   "source": [
    "Define una función que tenga como entrada una lista de temperaturas y un parametro de temperatura mínima. La fución debe devolver una lista con los elementos de la lista de temperaturas original que sean menores o iguales a la temperatura mínima pasada como parámetro.\n",
    "\n",
    "Prueba tu función con la siguiente lista:\n",
    "\n",
    "         \n",
    "> ```temperaturas = [25.2, 24.9, 25.2, 26.7, 28.6, 29.5, 29.7]```"
   ]
  },
  {
   "cell_type": "code",
   "execution_count": 62,
   "metadata": {
    "colab": {
     "base_uri": "https://localhost:8080/"
    },
    "executionInfo": {
     "elapsed": 12,
     "status": "ok",
     "timestamp": 1761233673244,
     "user": {
      "displayName": "Phbas 14",
      "userId": "05610450683528718367"
     },
     "user_tz": -120
    },
    "id": "B5b7egRmczVc",
    "outputId": "48e80919-5c6b-43d0-c57c-9f0a4b5b4fc4"
   },
   "outputs": [
    {
     "name": "stdout",
     "output_type": "stream",
     "text": [
      "[25.2, 24.9, 25.2, 26.7, 28.6, 29.5]\n"
     ]
    }
   ],
   "source": [
    "def temp (temperaturas, minima) :\n",
    "  for v in temperaturas [:] :\n",
    "    if v > minima :\n",
    "      temperaturas.remove (v)\n",
    "\n",
    "  return (temperaturas)\n",
    "\n",
    "\n",
    "print (temp ([25.2, 24.9, 25.2, 26.7, 28.6, 29.5, 29.7], 29.5))"
   ]
  },
  {
   "cell_type": "markdown",
   "metadata": {
    "id": "nV2M2rNyczVc"
   },
   "source": [
    "## Ejercicio 7"
   ]
  },
  {
   "cell_type": "markdown",
   "metadata": {
    "id": "R9-etpQ2czVc"
   },
   "source": [
    "Repite el ejercicio 6 pero utilizando comprensión de listas para producir la lista resultado. Si ya lo hiciste así en el ejercicio 6, hazlo aquí empleando un bucle ```for``` externo."
   ]
  },
  {
   "cell_type": "code",
   "execution_count": null,
   "metadata": {
    "id": "2oN8fEpDczVc"
   },
   "outputs": [],
   "source": [
    "def temp (temperaturas, minima) :\n",
    "  for v in temperaturas [:] :\n",
    "    if v > minima :\n",
    "      temperaturas.remove (v)\n",
    "\n",
    "  return (temperaturas)\n",
    "\n",
    "\n",
    "print (temp ([25.2, 24.9, 25.2, 26.7, 28.6, 29.5, 29.7], 29.5))"
   ]
  }
 ],
 "metadata": {
  "colab": {
   "provenance": [
    {
     "file_id": "1WHx_wCgbQufMgdD8UKSYXpS0LW4_emu1",
     "timestamp": 1761228543349
    }
   ]
  },
  "kernelspec": {
   "display_name": "Python 3 (ipykernel)",
   "language": "python",
   "name": "python3"
  },
  "language_info": {
   "codemirror_mode": {
    "name": "ipython",
    "version": 3
   },
   "file_extension": ".py",
   "mimetype": "text/x-python",
   "name": "python",
   "nbconvert_exporter": "python",
   "pygments_lexer": "ipython3",
   "version": "3.9.7"
  }
 },
 "nbformat": 4,
 "nbformat_minor": 0
}
